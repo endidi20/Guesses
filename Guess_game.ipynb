{
 "cells": [
  {
   "cell_type": "code",
   "execution_count": 1,
   "id": "6e8736b9",
   "metadata": {},
   "outputs": [
    {
     "name": "stdout",
     "output_type": "stream",
     "text": [
      "12\n",
      "Guess an integer between 0 to 99:99\n",
      "Your guess is bigger than the answer\n",
      "Guess another integer between 0 to 99 :80\n",
      "Your guess is bigger than the answer\n",
      "Guess another integer between 0 to 99 :78\n",
      "Your guess is bigger than the answer\n",
      "Guess another integer between 0 to 99 :1\n",
      "Your guess is smaller than the answer\n",
      "Guess another integer between 0 to 99 :2\n",
      "Your guess is smaller than the answer\n",
      "Guess another integer between 0 to 99 :3\n",
      "Your guess is smaller than the answer\n",
      "Guess another integer between 0 to 99 :50\n",
      "Your guess is bigger than the answer\n",
      "Guess another integer between 0 to 99 :8\n",
      "Your guess is smaller than the answer\n",
      "Guess another integer between 0 to 99 :12\n",
      "You guessed correctly, and you did it in 7 tries\n"
     ]
    }
   ],
   "source": [
    "# Generate a random integer within [0, 100] as the answer. Ask the users to guess what the answer is, \n",
    "# print a message indicating whether the user’s guess is bigger or smaller than the answer. \n",
    "# Repeat this until the user guesses the answer correctly. Print out how many times it takes for the user to make a correct\n",
    "# guess\n",
    "\n",
    "import random\n",
    "\n",
    "# This generates a random integer within [0,100]\n",
    "x = random.randint(0,100)\n",
    "print(x)\n",
    "# or x = random.randrange(0,100), to genearte a random number (not integer)\n",
    "\n",
    "# This line asks the users to guess what the answer is\n",
    "guess = int(input('Guess an integer between 0 to 99:'))\n",
    "\n",
    "# Initializing the number of guesses\n",
    "count = 0\n",
    "\n",
    "# Setting the maximum number of run times to 10\n",
    "while count < 11:\n",
    "    count += 1\n",
    "    \n",
    "    if (guess == x):\n",
    "        print('You guessed correctly, and you did it in', count , 'tries')\n",
    "        break\n",
    "        \n",
    "    if (guess > x):\n",
    "        print('Your guess is bigger than the answer')\n",
    "        guess = int(input('Guess another integer between 0 to 99 :'))\n",
    "        \n",
    "    if (guess < x):\n",
    "        print('Your guess is smaller than the answer')\n",
    "        guess = int(input('Guess another integer between 0 to 99 :'))\n",
    "        \n"
   ]
  }
 ],
 "metadata": {
  "kernelspec": {
   "display_name": "Python 3",
   "language": "python",
   "name": "python3"
  },
  "language_info": {
   "codemirror_mode": {
    "name": "ipython",
    "version": 3
   },
   "file_extension": ".py",
   "mimetype": "text/x-python",
   "name": "python",
   "nbconvert_exporter": "python",
   "pygments_lexer": "ipython3",
   "version": "3.8.8"
  }
 },
 "nbformat": 4,
 "nbformat_minor": 5
}
